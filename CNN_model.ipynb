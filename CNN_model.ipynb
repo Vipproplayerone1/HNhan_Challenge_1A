{
 "cells": [
  {
   "cell_type": "code",
   "execution_count": 7,
   "metadata": {
    "colab": {
     "base_uri": "https://localhost:8080/",
     "height": 34
    },
    "colab_type": "code",
    "id": "EzeCCH4pNTIY",
    "outputId": "8fe8b11d-93db-4e74-ad56-54c157e30b3d"
   },
   "outputs": [],
   "source": [
    "import numpy as np\n",
    "\n",
    "from keras.datasets import mnist\n",
    "from keras.models import Sequential\n",
    "from keras.layers import Dense,Conv2D,MaxPooling2D\n",
    "from keras.layers import Flatten,Dropout,Activation"
   ]
  },
  {
   "cell_type": "code",
   "execution_count": 8,
   "metadata": {
    "colab": {
     "base_uri": "https://localhost:8080/",
     "height": 139
    },
    "colab_type": "code",
    "id": "cU2lzGTENVt9",
    "outputId": "6aeaca9e-cb0e-4bee-9b72-51bf7d6644f0"
   },
   "outputs": [],
   "source": [
    "#create a model\n",
    "model = Sequential()\n",
    "model.add(Conv2D(64,(5,5),input_shape=(28,28,1),data_format=\"channels_last\",strides=(1,1),padding=\"valid\",activation=\"relu\"))\n",
    "model.add(MaxPooling2D(pool_size=(2,2)))\n",
    "model.add(Conv2D(64,(3,3),activation=\"relu\",padding=\"valid\"))\n",
    "model.add(MaxPooling2D(pool_size=(2,2)))\n",
    "model.add(Dropout(0.25))\n",
    "model.add(Flatten())\n",
    "model.add(Dense(256,activation=\"relu\"))\n",
    "model.add(Dropout(0.2))\n",
    "model.add(Dense(64,activation=\"relu\"))\n",
    "model.add(Dropout(0.2))\n",
    "model.add(Dense(10))\n",
    "model.add(Activation('softmax'))"
   ]
  },
  {
   "cell_type": "code",
   "execution_count": 9,
   "metadata": {
    "colab": {},
    "colab_type": "code",
    "id": "zOw7w2asNYN6"
   },
   "outputs": [],
   "source": [
    "from keras import losses\n",
    "from keras import optimizers\n",
    "sgd = optimizers.SGD(learning_rate=0.01,decay=0.001,momentum=0.9,nesterov=True)\n",
    "adam = optimizers.Adam(learning_rate=0.01, beta_1=0.9, beta_2=0.999, epsilon=None, decay=0.001, amsgrad=True)\n",
    "model.compile(loss=losses.categorical_crossentropy,optimizer=optimizers.Adadelta(),metrics=['accuracy'])"
   ]
  },
  {
   "cell_type": "code",
   "execution_count": 10,
   "metadata": {
    "colab": {
     "base_uri": "https://localhost:8080/",
     "height": 51
    },
    "colab_type": "code",
    "id": "tKZB6IlfNbdW",
    "outputId": "6700bfcb-2dfe-48c3-e0c1-b36f68d44edb"
   },
   "outputs": [],
   "source": [
    "(trainData,trainLabels),(testData,testLabels)=mnist.load_data()\n",
    "\n",
    "#normalizaing image pixels\n",
    "trainData = trainData.reshape(len(trainData),28,28,1).astype('float32')/255\n",
    "testData = testData.reshape(len(testData),28,28,1).astype('float32')/255"
   ]
  },
  {
   "cell_type": "code",
   "execution_count": null,
   "metadata": {
    "colab": {},
    "colab_type": "code",
    "id": "1i8UWDl4NnOR"
   },
   "outputs": [
    {
     "ename": "ImportError",
     "evalue": "cannot import name 'np_utils' from 'keras.utils' (d:\\Character-Recognition-webapp-master\\myenv\\Lib\\site-packages\\keras\\api\\utils\\__init__.py)",
     "output_type": "error",
     "traceback": [
      "\u001b[1;31m---------------------------------------------------------------------------\u001b[0m",
      "\u001b[1;31mImportError\u001b[0m                               Traceback (most recent call last)",
      "Cell \u001b[1;32mIn[11], line 1\u001b[0m\n\u001b[1;32m----> 1\u001b[0m \u001b[38;5;28;01mfrom\u001b[39;00m \u001b[38;5;21;01mkeras\u001b[39;00m\u001b[38;5;21;01m.\u001b[39;00m\u001b[38;5;21;01mutils\u001b[39;00m \u001b[38;5;28;01mimport\u001b[39;00m np_utils\n\u001b[0;32m      2\u001b[0m mTrainLabels \u001b[38;5;241m=\u001b[39m np_utils\u001b[38;5;241m.\u001b[39mto_categorical(trainLabels, \u001b[38;5;241m10\u001b[39m)\n\u001b[0;32m      3\u001b[0m mTestLabels \u001b[38;5;241m=\u001b[39m np_utils\u001b[38;5;241m.\u001b[39mto_categorical(testLabels, \u001b[38;5;241m10\u001b[39m)\n",
      "\u001b[1;31mImportError\u001b[0m: cannot import name 'np_utils' from 'keras.utils' (d:\\Character-Recognition-webapp-master\\myenv\\Lib\\site-packages\\keras\\api\\utils\\__init__.py)"
     ]
    }
   ],
   "source": [
    "from keras.utils import to_categorical\n",
    "mTrainLabels = to_categorical(trainLabels, 10)\n",
    "mTestLabels = to_categorical(testLabels, 10)\n"
   ]
  },
  {
   "cell_type": "code",
   "execution_count": null,
   "metadata": {
    "colab": {
     "base_uri": "https://localhost:8080/",
     "height": 462
    },
    "colab_type": "code",
    "id": "T88AnSJXNqQO",
    "outputId": "b04c277e-47be-4bc2-f685-56ff70465a00"
   },
   "outputs": [
    {
     "name": "stdout",
     "output_type": "stream",
     "text": [
      "WARNING:tensorflow:From /usr/local/lib/python3.6/dist-packages/tensorflow/python/ops/math_ops.py:3066: to_int32 (from tensorflow.python.ops.math_ops) is deprecated and will be removed in a future version.\n",
      "Instructions for updating:\n",
      "Use tf.cast instead.\n",
      "Train on 60000 samples, validate on 10000 samples\n",
      "Epoch 1/10\n",
      "60000/60000 [==============================] - 102s 2ms/step - loss: 0.2645 - acc: 0.9159 - val_loss: 0.0464 - val_acc: 0.9838\n",
      "Epoch 2/10\n",
      "60000/60000 [==============================] - 101s 2ms/step - loss: 0.0717 - acc: 0.9791 - val_loss: 0.0376 - val_acc: 0.9875\n",
      "Epoch 3/10\n",
      "60000/60000 [==============================] - 101s 2ms/step - loss: 0.0524 - acc: 0.9847 - val_loss: 0.0260 - val_acc: 0.9913\n",
      "Epoch 4/10\n",
      "60000/60000 [==============================] - 101s 2ms/step - loss: 0.0434 - acc: 0.9877 - val_loss: 0.0261 - val_acc: 0.9916\n",
      "Epoch 5/10\n",
      "60000/60000 [==============================] - 101s 2ms/step - loss: 0.0360 - acc: 0.9894 - val_loss: 0.0225 - val_acc: 0.9925\n",
      "Epoch 6/10\n",
      "60000/60000 [==============================] - 101s 2ms/step - loss: 0.0308 - acc: 0.9905 - val_loss: 0.0203 - val_acc: 0.9936\n",
      "Epoch 7/10\n",
      "60000/60000 [==============================] - 102s 2ms/step - loss: 0.0284 - acc: 0.9917 - val_loss: 0.0215 - val_acc: 0.9932\n",
      "Epoch 8/10\n",
      "60000/60000 [==============================] - 102s 2ms/step - loss: 0.0249 - acc: 0.9925 - val_loss: 0.0200 - val_acc: 0.9932\n",
      "Epoch 9/10\n",
      "60000/60000 [==============================] - 103s 2ms/step - loss: 0.0229 - acc: 0.9929 - val_loss: 0.0219 - val_acc: 0.9926\n",
      "Epoch 10/10\n",
      "60000/60000 [==============================] - 103s 2ms/step - loss: 0.0208 - acc: 0.9941 - val_loss: 0.0222 - val_acc: 0.9927\n"
     ]
    },
    {
     "data": {
      "text/plain": [
       "<keras.callbacks.History at 0x7f9e4aabdfd0>"
      ]
     },
     "execution_count": 6,
     "metadata": {
      "tags": []
     },
     "output_type": "execute_result"
    }
   ],
   "source": [
    "batch_size=128\n",
    "epochs=10\n",
    "\n",
    "model.fit(trainData,\n",
    "        mTrainLabels,\n",
    "        validation_data=(testData,mTestLabels),\n",
    "        batch_size=batch_size,\n",
    "        verbose=1,\n",
    "        epochs=epochs\n",
    "         )"
   ]
  },
  {
   "cell_type": "code",
   "execution_count": null,
   "metadata": {
    "colab": {
     "base_uri": "https://localhost:8080/",
     "height": 68
    },
    "colab_type": "code",
    "id": "rOMkyZ87NsXD",
    "outputId": "321b855b-4ea5-493b-d2a4-8206bc267b0f"
   },
   "outputs": [
    {
     "name": "stdout",
     "output_type": "stream",
     "text": [
      "10000/10000 [==============================] - 6s 598us/step\n",
      "Test Loss: 0.02218094000158235\n",
      "Test Accuracy: 0.9927\n"
     ]
    }
   ],
   "source": [
    "score = model.evaluate(testData,mTestLabels,verbose=1)\n",
    "print(\"Test Loss: {}\".format(score[0]))\n",
    "print(\"Test Accuracy: {}\".format(score[1]))"
   ]
  },
  {
   "cell_type": "code",
   "execution_count": 0,
   "metadata": {
    "colab": {},
    "colab_type": "code",
    "id": "XIyqBBFGNwUV"
   },
   "outputs": [],
   "source": [
    "model.save_weights(\"model_cnn_1.h5\")"
   ]
  },
  {
   "cell_type": "code",
   "execution_count": 0,
   "metadata": {
    "colab": {},
    "colab_type": "code",
    "id": "RVKEXBfqOCBN"
   },
   "outputs": [],
   "source": []
  }
 ],
 "metadata": {
  "colab": {
   "name": "Untitled3.ipynb",
   "provenance": [],
   "version": "0.3.2"
  },
  "kernelspec": {
   "display_name": "myenv",
   "language": "python",
   "name": "python3"
  },
  "language_info": {
   "codemirror_mode": {
    "name": "ipython",
    "version": 3
   },
   "file_extension": ".py",
   "mimetype": "text/x-python",
   "name": "python",
   "nbconvert_exporter": "python",
   "pygments_lexer": "ipython3",
   "version": "3.11.9"
  }
 },
 "nbformat": 4,
 "nbformat_minor": 0
}
